{
 "cells": [
  {
   "cell_type": "code",
   "execution_count": 6,
   "metadata": {},
   "outputs": [
    {
     "name": "stdout",
     "output_type": "stream",
     "text": [
      "print(df_latency)\n",
      "     0.013000745\n",
      "0       0.830048\n",
      "1       0.158009\n",
      "2       1.021059\n",
      "3       0.015001\n",
      "4       0.021001\n",
      "..           ...\n",
      "556     0.491028\n",
      "557     0.013001\n",
      "558     0.762044\n",
      "559     0.205012\n",
      "560     0.703040\n",
      "\n",
      "[561 rows x 1 columns]\n",
      "print(percentiles)\n",
      "      0.013000745\n",
      "0.25     0.020001\n",
      "0.50     0.185011\n",
      "0.75     0.402023\n",
      "0.95     0.941054\n",
      "0.99     1.350477\n"
     ]
    }
   ],
   "source": [
    "import pandas as pd\n",
    "\n",
    "# Load the file into a dataframe\n",
    "df_latency = pd.read_csv('~/tmp/latency_raw.log')\n",
    "print(\"print(df_latency)\")\n",
    "print(df_latency)\n",
    "\n",
    "# Calculate percentiles\n",
    "percentiles = df_latency.quantile([0.25, 0.5, 0.75, 0.95, 0.99])\n",
    "\n",
    "print(\"print(percentiles)\")\n",
    "print(percentiles)\n"
   ]
  }
 ],
 "metadata": {
  "kernelspec": {
   "display_name": "usr",
   "language": "python",
   "name": "python3"
  },
  "language_info": {
   "codemirror_mode": {
    "name": "ipython",
    "version": 3
   },
   "file_extension": ".py",
   "mimetype": "text/x-python",
   "name": "python",
   "nbconvert_exporter": "python",
   "pygments_lexer": "ipython3",
   "version": "3.12.4"
  }
 },
 "nbformat": 4,
 "nbformat_minor": 2
}
